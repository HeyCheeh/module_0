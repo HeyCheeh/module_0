{
 "cells": [
  {
   "cell_type": "code",
   "execution_count": 57,
   "metadata": {},
   "outputs": [],
   "source": [
    "import numpy as np\n",
    "\n",
    "def score_game(game_core):\n",
    "    '''Запускаем игру 1000 раз, чтобы узнать, как быстро игра угадывает число'''\n",
    "    count_ls = []\n",
    "    np.random.seed(1)  # фиксируем RANDOM SEED, чтобы ваш эксперимент был воспроизводим!\n",
    "    random_array = np.random.randint(1,101, size=(1000))\n",
    "    for number in random_array:\n",
    "        count_ls.append(game_core(number))\n",
    "    score = int(np.mean(count_ls))\n",
    "    print(f\"Ваш алгоритм угадывает число в среднем за {score} попыток\")\n",
    "    return(score)\n",
    "\n",
    "def play_game(number):\n",
    "    count=1\n",
    "    maxx=101                                  # Верхняя граница диапазона\n",
    "    minn=1                                    # Нижняя граница диапазона\n",
    "    predict = 50                              # Ровно посередине. С каждым новым заходом отсекаем половину вариантов\n",
    "    while number != predict:                  # Цикл проверки загаданного числа\n",
    "        count+=1                              # Считаем кол-во попыток\n",
    "        if number > predict:                  # Если загаданное число больше \n",
    "            minn = predict                    # то текущая переменная становится новым минимальным значением \n",
    "            predict = int((predict + maxx)/2) # и сразу делаем новое предположение - отсекаем еще половину значений\n",
    "        elif number < predict:                # Если загаданное число меньше \n",
    "            maxx = predict                    # то текущая переменная становится новым максимальным значением\n",
    "            predict = int((predict + minn)/2) # и сразу делаем новое предположение - отсекаем еще половину значений    \n",
    "    return(count)                             # выход из цикла, если угадали       "
   ]
  },
  {
   "cell_type": "code",
   "execution_count": 58,
   "metadata": {},
   "outputs": [
    {
     "name": "stdout",
     "output_type": "stream",
     "text": [
      "Ваш алгоритм угадывает число в среднем за 5 попыток\n"
     ]
    },
    {
     "data": {
      "text/plain": [
       "5"
      ]
     },
     "execution_count": 58,
     "metadata": {},
     "output_type": "execute_result"
    }
   ],
   "source": [
    "score_game(play_game)"
   ]
  },
  {
   "cell_type": "code",
   "execution_count": null,
   "metadata": {},
   "outputs": [],
   "source": []
  }
 ],
 "metadata": {
  "kernelspec": {
   "display_name": "Python 3",
   "language": "python",
   "name": "python3"
  },
  "language_info": {
   "codemirror_mode": {
    "name": "ipython",
    "version": 3
   },
   "file_extension": ".py",
   "mimetype": "text/x-python",
   "name": "python",
   "nbconvert_exporter": "python",
   "pygments_lexer": "ipython3",
   "version": "3.8.3"
  }
 },
 "nbformat": 4,
 "nbformat_minor": 4
}
